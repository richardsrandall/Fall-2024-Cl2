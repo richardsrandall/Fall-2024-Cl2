{
 "cells": [
  {
   "cell_type": "markdown",
   "metadata": {},
   "source": [
    "<h2>Table comparing different possible Cl2-to-CH4 ratios</h2>"
   ]
  },
  {
   "cell_type": "code",
   "execution_count": 2,
   "metadata": {},
   "outputs": [],
   "source": [
    "# Some imports to stop some annoying yellow underlines\n",
    "import matplotlib.pyplot as plt\n",
    "from matplotlib.gridspec import GridSpec\n",
    "import numpy as np\n",
    "import pandas as pd\n",
    "import importlib\n",
    "import types\n",
    "\n",
    "# Very important lines to run the setup notebooks!!!\n",
    "%run do_plot_setup.ipynb\n",
    "%run do_radical_count_setup.ipynb\n",
    "get_cl_radical_budget = get_cl_radical_budget # Tautology to get rid of the yellow underlines\n",
    "import cl2_utilities as cl2_utils\n",
    "\n",
    "# Extract some shared values that are used to facilitate plotting. Call 'display' on any of them to see their contents.\n",
    "plot_default_properties = get_and_apply_plot_defaults() #Ignore yellow underline\n",
    "line_default_properties = get_default_line_properties() #Ignore yellow underline\n",
    "cl2_experiment_constants = get_cl2_experiment_constants() #Ignore yellow underline\n",
    "(all_conversion_data,all_bypass_data) = get_experimental_data() #Ignore underline. These two dataframes have all the experimental results."
   ]
  },
  {
   "cell_type": "code",
   "execution_count": 3,
   "metadata": {},
   "outputs": [
    {
     "name": "stdout",
     "output_type": "stream",
     "text": [
      "Loaded results for plotting into object 'cl2_sweep_data'.\n"
     ]
    }
   ],
   "source": [
    "# Load the data from the Cl2 sweep to use here\n",
    "\n",
    "# Load data for the Cl2 sweep trial\n",
    "current_data = types.SimpleNamespace()\n",
    "\n",
    "# Select data from only the the experiments we want\n",
    "exps = [\"09-28-24 Vary Cl2 (20-90 ppm) at Fixed CH4\",\"09-19-24 Vary Cl2 (5-30 ppm) at Fixed CH4\"]\n",
    "bypass_data = all_bypass_data[all_bypass_data[\"experiment_name\"].isin(exps)]\n",
    "conversion_data = all_conversion_data[all_conversion_data[\"experiment_name\"].isin(exps)]\n",
    "conversion_data = conversion_data[(conversion_data['experiment_name']==\"09-19-24 Vary Cl2 (5-30 ppm) at Fixed CH4\") | # Use exp. with 100 ppm Cl2 tank for Cl2 5-30 ppm and exp. with 1000 ppm Cl2 tank for 45-90 ppm.\n",
    "                                  (conversion_data['Cl2 LabJack: Cl2 reading minus zero (mV) baseline']>40)] # Proxy for >=45 ppm is a Cl2 measurement of more than 85mV\n",
    "conversion_data=conversion_data.sort_values(by='Cl2 LabJack: Cl2 reading minus zero (mV) baseline',ascending=True)\n",
    "current_data.conversion_data = conversion_data\n",
    "current_data.bypass_data = bypass_data\n",
    "\n",
    "# The Cl2 tank ppms are set manually here based on notes taken during each experiment; it's not recorded automatically in software.\n",
    "cl2_tank_ppms = np.array([1000 if b>40 else 100 for b in conversion_data['Cl2 LabJack: Cl2 reading minus zero (mV) baseline']]) # We've confirmed that in this subset of trials, only Cl2 conc's 45 and over used the 1000 ppm Cl2 tank\n",
    "\n",
    "# Extract the values and 95% CI from the CH4 conversion data\n",
    "current_data.ch4_baselines = conversion_data[\"Selected: CH4 (ppm) baseline\"]\n",
    "((current_data.ch4_conversions,current_data.ch4_95_ci),) = cl2_utils.extract_spectrometer_data_from_conversions(conversion_data,\n",
    "            fields=['Selected: CH4 (ppm)'], percent_accuracy_95 = cl2_experiment_constants.picarro_percent_accuracy_95, absolute_accuracy_95 = cl2_experiment_constants.picarro_absolute_accuracy_95)\n",
    "\n",
    "# Extract the values and 95% CI from the Cl2 conversion data\n",
    "(current_data.cl2_baseline, current_data.cl2_conversions, current_data.cl2_conversion_95_ci) = cl2_utils.extract_cl2_data_from_conversions(conversion_data,bypass_data,cl2_tank_ppms,cl2_experiment_constants.cl2_mfc_sccm_accuracy_95,cl2_experiment_constants.cl2_node_absolute_accuracy_95)\n",
    "current_data.inlet_cl2 = current_data.cl2_baseline\n",
    "\n",
    "# Compute the Cl* efficiencies\n",
    "(current_data.cl_budget,current_data.cl_budget_95_ci) = get_cl_radical_budget(current_data.inlet_cl2)\n",
    "current_data.cl_per_ch4 = current_data.cl_budget / current_data.ch4_conversions\n",
    "current_data.cl2_per_ch4_95_ci = cl2_utils.get_95_ci_of_ratio(current_data.cl_budget,current_data.cl_budget_95_ci,current_data.ch4_conversions,current_data.ch4_95_ci)\n",
    "\n",
    "# Save to variable and report success\n",
    "cl2_sweep_data = current_data\n",
    "print(\"Loaded results for plotting into object 'cl2_sweep_data'.\")"
   ]
  },
  {
   "cell_type": "code",
   "execution_count": 27,
   "metadata": {},
   "outputs": [
    {
     "data": {
      "text/markdown": [
       "|  Inlet [Cl<sub>2</sub>] (ppm)  |  Inlet Cl<sub>2</sub>-to-CH<sub>4</sub> ratio (–)  |  CH<sub>4</sub> conversion (ppm)  |  CH<sub>4</sub> conversion (%)  |  CH<sub>4</sub> converted per Cl<sub>2</sub> added ($\\rm \\eta_{\\rm Cl_2}$, –)  |  CH<sub>4</sub> converted per Cl· produced ($\\rm \\eta_{\\rm Cl^\\bullet}$, –)  |  Cl<sub>2</sub> cost per ton CH<sub>4</sub> ($)  |  Lighting cost per ton CH<sub>4</sub> ($)  |  Lighting and Cl<sub>2</sub> cost per ton CH<sub>4</sub> ($)  |\n",
       "|:-------------------:|:----------------------------:|:----------------------:|:--------------------:|:--------------------------------------------------------:|:-----------------------------------------------------------------:|:--------------------------:|:-------------------------------:|:---------------------------------------:|\n",
       "|         10          |             0.33             |          5.7           |          19          |                           0.57                           |                               0.36                                |            1800            |              2300               |                  4200                   |\n",
       "|         20          |             0.67             |           12           |          41          |                           0.62                           |                               0.36                                |            1700            |              2300               |                  4000                   |\n",
       "|         30          |              1.0               |           19           |          62          |                           0.62                           |                               0.36                                |            1700            |              2300               |                  4000                   |\n",
       "|         45          |             1.5              |           23           |          77          |                           0.51                           |                                0.3                                |            2000            |              2800               |                  4900                   |\n",
       "|         60          |              2.0               |           28           |          94          |                           0.47                           |                               0.27                                |            2200            |              3100               |                  5300                   |\n",
       "|         90          |              3.0               |           30           |         100          |                           0.33                           |                               0.19                                |            3100            |              4300               |                  7500                   |"
      ],
      "text/plain": [
       "<IPython.core.display.Markdown object>"
      ]
     },
     "metadata": {},
     "output_type": "display_data"
    }
   ],
   "source": [
    "# Imports\n",
    "from IPython.display import display, HTML\n",
    "from pretty_html_table import build_table\n",
    "\n",
    "# Tabulate the non-cost values that come straight from the experiments\n",
    "inlet_CH4 = 30 # ppm\n",
    "df = pd.DataFrame()\n",
    "df['Inlet [Cl2] (ppm)'] = np.array(cl2_sweep_data.cl2_baseline)\n",
    "df['Inlet Cl2-to-CH4 ratio (–)'] = np.array(cl2_sweep_data.cl2_baseline)/inlet_CH4\n",
    "df['CH4 conversion (ppm)'] = np.array(cl2_sweep_data.ch4_conversions)\n",
    "df['CH4 conversion (%)'] = 100*np.array(cl2_sweep_data.ch4_conversions)/inlet_CH4\n",
    "df['CH4 converted per Cl2 added ($\\\\rm \\\\eta_{\\\\rm Cl_2}$, –)'] = np.array(cl2_sweep_data.ch4_conversions)/np.array(cl2_sweep_data.cl2_baseline)\n",
    "df['CH4 converted per Cl· produced ($\\\\rm \\\\eta_{\\\\rm Cl^\\\\bullet}$, –)'] = 1.0/np.array(cl2_sweep_data.cl_per_ch4)\n",
    "\n",
    "# Tabulate the chlorine cost\n",
    "#tons_cl2_per_ton_ch4 = (70.9060/16.04)*df['Cl2 added per CH4 converted (–)'] # (g-cl2/mol-cl2)*(mol-ch4/g-ch4)*(mol_cl2/mol_ch4) = (g-cl2/g-ch4)\n",
    "df['Cl2 cost per ton CH4 ($)'] = (1.0/df['CH4 converted per Cl2 added ($\\\\rm \\\\eta_{\\\\rm Cl_2}$, –)'])*cl2_experiment_constants.cost_cl2_usage_coefficient\n",
    "\n",
    "#moles_photons_per_ton_ch4 = 62500*df['Cl· Usage (–)']*(1.0/cl2_experiment_constants.reflector_efficiency)*0.5 #Each UV photon produces 2 Cl*'s when it hits a Cl2\n",
    "df['Lighting cost per ton CH4 ($)'] = (1.0/df['CH4 converted per Cl· produced ($\\\\rm \\\\eta_{\\\\rm Cl^\\\\bullet}$, –)'])*cl2_experiment_constants.cost_cl_radical_usage_coefficient\n",
    "# And get the combined cost\n",
    "df['Lighting and Cl2 cost per ton CH4 ($)'] = df['Lighting cost per ton CH4 ($)']+df['Cl2 cost per ton CH4 ($)']\n",
    "\n",
    "# Apply the significant figure calculation\n",
    "from math import floor, log10\n",
    "for col in df.columns:\n",
    "    df[col]=df[col].apply(lambda x: (round(x, 1 - int(floor(log10(abs(x)))))))\n",
    "\n",
    "# Machinery to add subscripts on CH4 and Cl2\n",
    "def do_subscripts(text):\n",
    "    text = text.replace('CH4','CH<sub>4</sub>')\n",
    "    text = text.replace('Cl2','Cl<sub>2</sub>')\n",
    "    return text\n",
    "\n",
    "# Generate the actual table. Annoying workaround needed to print 2 sig figs for 1-digit integers, i.e. '3.0' instead of just '3'.\n",
    "from IPython.display import display, Markdown, Latex\n",
    "md_text = (do_subscripts(df.to_markdown(intfmt=\",\",numalign='center', stralign='center', index=False)))\n",
    "for i in '123456789':\n",
    "    md_text = md_text.replace(('           '+i+'            '),('           '+i+'.0            '))\n",
    "display(Markdown(md_text))\n",
    "\n",
    "# Save the table as a CSV file\n",
    "df.to_csv('exported_images/cl2_ch4_comparison_table.csv', index=False)\n"
   ]
  }
 ],
 "metadata": {
  "kernelspec": {
   "display_name": "Python 3",
   "language": "python",
   "name": "python3"
  },
  "language_info": {
   "codemirror_mode": {
    "name": "ipython",
    "version": 3
   },
   "file_extension": ".py",
   "mimetype": "text/x-python",
   "name": "python",
   "nbconvert_exporter": "python",
   "pygments_lexer": "ipython3",
   "version": "3.10.7"
  }
 },
 "nbformat": 4,
 "nbformat_minor": 2
}
