{
 "cells": [
  {
   "cell_type": "markdown",
   "metadata": {},
   "source": [
    "<h2>Table comparing different possible Cl2-to-CH4 ratios</h2>"
   ]
  },
  {
   "cell_type": "code",
   "execution_count": 1,
   "metadata": {},
   "outputs": [],
   "source": [
    "# Some imports to stop some annoying yellow underlines\n",
    "import matplotlib.pyplot as plt\n",
    "from matplotlib.gridspec import GridSpec\n",
    "import numpy as np\n",
    "import pandas as pd\n",
    "import importlib\n",
    "import types\n",
    "\n",
    "# Very important lines to run the setup notebooks!!!\n",
    "%run do_plot_setup.ipynb\n",
    "%run do_radical_count_setup.ipynb\n",
    "get_cl_radical_budget = get_cl_radical_budget # Tautology to get rid of the yellow underlines\n",
    "import cl2_utilities as cl2_utils\n",
    "\n",
    "# Extract some shared values that are used to facilitate plotting. Call 'display' on any of them to see their contents.\n",
    "plot_default_properties = get_and_apply_plot_defaults() #Ignore yellow underline\n",
    "line_default_properties = get_default_line_properties() #Ignore yellow underline\n",
    "cl2_experiment_constants = get_cl2_experiment_constants() #Ignore yellow underline\n",
    "(all_conversion_data,all_bypass_data) = get_experimental_data() #Ignore underline. These two dataframes have all the experimental results."
   ]
  },
  {
   "cell_type": "code",
   "execution_count": 2,
   "metadata": {},
   "outputs": [
    {
     "name": "stdout",
     "output_type": "stream",
     "text": [
      "Loaded results for plotting into object 'cl2_sweep_data'.\n"
     ]
    }
   ],
   "source": [
    "# Load the data from the Cl2 sweep to use here\n",
    "\n",
    "# Load data for the Cl2 sweep trial\n",
    "current_data = types.SimpleNamespace()\n",
    "\n",
    "# Select data from only the the experiments we want\n",
    "exps = [\"09-28-24 Vary Cl2 (20-90 ppm) at Fixed CH4\",\"09-19-24 Vary Cl2 (5-30 ppm) at Fixed CH4\"]\n",
    "bypass_data = all_bypass_data[all_bypass_data[\"experiment_name\"].isin(exps)]\n",
    "conversion_data = all_conversion_data[all_conversion_data[\"experiment_name\"].isin(exps)]\n",
    "conversion_data = conversion_data[(conversion_data['experiment_name']==\"09-19-24 Vary Cl2 (5-30 ppm) at Fixed CH4\") | # Use exp. with 100 ppm Cl2 tank for Cl2 5-30 ppm and exp. with 1000 ppm Cl2 tank for 45-90 ppm.\n",
    "                                  (conversion_data['Cl2 LabJack: Cl2 reading minus zero (mV) baseline']>40)] # Proxy for >=45 ppm is a Cl2 measurement of more than 85mV\n",
    "conversion_data=conversion_data.sort_values(by='Cl2 LabJack: Cl2 reading minus zero (mV) baseline',ascending=True)\n",
    "current_data.conversion_data = conversion_data\n",
    "current_data.bypass_data = bypass_data\n",
    "\n",
    "# The Cl2 tank ppms are set manually here based on notes taken during each experiment; it's not recorded automatically in software.\n",
    "cl2_tank_ppms = np.array([1000 if b>40 else 100 for b in conversion_data['Cl2 LabJack: Cl2 reading minus zero (mV) baseline']]) # We've confirmed that in this subset of trials, only Cl2 conc's 45 and over used the 1000 ppm Cl2 tank\n",
    "\n",
    "# Extract the values and 95% CI from the CH4 conversion data\n",
    "current_data.ch4_baselines = conversion_data[\"Selected: CH4 (ppm) baseline\"]\n",
    "((current_data.ch4_conversions,current_data.ch4_95_ci),) = cl2_utils.extract_spectrometer_data_from_conversions(conversion_data,\n",
    "            fields=['Selected: CH4 (ppm)'], percent_accuracy_95 = cl2_experiment_constants.picarro_percent_accuracy_95, absolute_accuracy_95 = cl2_experiment_constants.picarro_absolute_accuracy_95)\n",
    "\n",
    "# Extract the values and 95% CI from the Cl2 conversion data\n",
    "(current_data.cl2_baseline, current_data.cl2_conversions, current_data.cl2_conversion_95_ci) = cl2_utils.extract_cl2_data_from_conversions(conversion_data,bypass_data,cl2_tank_ppms,cl2_experiment_constants.cl2_mfc_sccm_accuracy_95,cl2_experiment_constants.cl2_node_absolute_accuracy_95)\n",
    "current_data.inlet_cl2 = current_data.cl2_baseline\n",
    "\n",
    "# Compute the Cl* efficiencies\n",
    "(current_data.cl_budget,current_data.cl_budget_95_ci) = get_cl_radical_budget(current_data.inlet_cl2)\n",
    "current_data.cl_per_ch4 = current_data.cl_budget / current_data.ch4_conversions\n",
    "current_data.cl2_per_ch4_95_ci = cl2_utils.get_95_ci_of_ratio(current_data.cl_budget,current_data.cl_budget_95_ci,current_data.ch4_conversions,current_data.ch4_95_ci)\n",
    "\n",
    "# Save to variable and report success\n",
    "cl2_sweep_data = current_data\n",
    "print(\"Loaded results for plotting into object 'cl2_sweep_data'.\")"
   ]
  },
  {
   "cell_type": "code",
   "execution_count": 13,
   "metadata": {},
   "outputs": [
    {
     "data": {
      "text/markdown": [
       "|    |   Inlet [Cl<sub>2</sub>] (ppm) |   Cl<sub>2</sub>-to-CH<sub>4</sub> ratio |   CH<sub>4</sub> conversion (ppm) |   CH<sub>4</sub> conversion (%) |\n",
       "|---:|--------------------:|-------------------:|-----------------------:|---------------------:|\n",
       "|  0 |                  10 |               0.33 |                    5.7 |                   19 |\n",
       "|  1 |                  20 |               0.67 |                   12.4 |                   41 |\n",
       "|  2 |                  30 |               1    |                   18.6 |                   62 |\n",
       "|  3 |                  45 |               1.5  |                   23.1 |                   77 |\n",
       "|  4 |                  60 |               2    |                   28.1 |                   94 |\n",
       "|  5 |                  90 |               3    |                   30   |                  100 |"
      ],
      "text/plain": [
       "<IPython.core.display.Markdown object>"
      ]
     },
     "metadata": {},
     "output_type": "display_data"
    }
   ],
   "source": [
    "from IPython.display import display, HTML\n",
    "from pretty_html_table import build_table\n",
    "\n",
    "#dummy_df = pd.DataFrame(np.random.randint(0,5,size=(5, 4)), columns=list('ABCD'))\n",
    "\n",
    "inlet_CH4 = 30 # ppm\n",
    "df = pd.DataFrame()\n",
    "df['Inlet [Cl2] (ppm)'] = np.array(cl2_sweep_data.cl2_baseline)\n",
    "df['Cl2-to-CH4 ratio'] = np.array(cl2_sweep_data.cl2_baseline)/inlet_CH4\n",
    "df['CH4 conversion (ppm)'] = np.array(cl2_sweep_data.ch4_conversions)\n",
    "df['CH4 conversion (%)'] = 100*np.array(cl2_sweep_data.ch4_conversions)/inlet_CH4\n",
    "\n",
    "# Round the whole dataframe for formatting purposes\n",
    "round_dict = {'Inlet [Cl2] (ppm)':0, 'Cl2-to-CH4 ratio':2, 'CH4 conversion (ppm)':1,\n",
    "               'CH4 conversion (%)':0}\n",
    "df = df.round(round_dict)\n",
    "for k,v in round_dict.items():\n",
    "    if v==0:\n",
    "        df[k] = df[k].astype('int')\n",
    "\n",
    "def do_subscripts(text):\n",
    "    text = text.replace('CH4','CH<sub>4</sub>')\n",
    "    text = text.replace('Cl2','Cl<sub>2</sub>')\n",
    "    return text\n",
    "\n",
    "from IPython.display import display, Markdown, Latex\n",
    "display(Markdown(do_subscripts(df.to_markdown())))\n"
   ]
  }
 ],
 "metadata": {
  "kernelspec": {
   "display_name": "Python 3",
   "language": "python",
   "name": "python3"
  },
  "language_info": {
   "codemirror_mode": {
    "name": "ipython",
    "version": 3
   },
   "file_extension": ".py",
   "mimetype": "text/x-python",
   "name": "python",
   "nbconvert_exporter": "python",
   "pygments_lexer": "ipython3",
   "version": "3.10.7"
  }
 },
 "nbformat": 4,
 "nbformat_minor": 2
}
