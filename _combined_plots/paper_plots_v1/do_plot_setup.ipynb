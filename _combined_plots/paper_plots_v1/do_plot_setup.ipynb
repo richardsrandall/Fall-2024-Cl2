{
 "cells": [
  {
   "cell_type": "code",
   "execution_count": 31,
   "metadata": {},
   "outputs": [],
   "source": [
    "# Load necessary libraries\n",
    "import matplotlib.pyplot as plt\n",
    "import importlib\n",
    "from matplotlib.gridspec import GridSpec\n",
    "import numpy as np\n",
    "import pandas as pd\n",
    "import matplotlib.pyplot as plt\n",
    "import sys\n",
    "import os\n",
    "\n",
    "# Janky way to allow imports from the directory 2 levels up. If this breaks, just hard-code in the path as in the commented line below.\n",
    "parent = (os.path.abspath(os.path.join(os.getcwd(), os.pardir)))\n",
    "grandparent = (os.path.abspath(os.path.join(parent, os.pardir)))\n",
    "sys.path.append(grandparent+'/_shared_packages')\n",
    "#sys.path.append('/Users/work/Desktop/Research/Experimental Data/Fall-2024-Cl2/_shared_packages')\n",
    "import cl2_utilities as cl2_utils\n"
   ]
  },
  {
   "cell_type": "code",
   "execution_count": null,
   "metadata": {},
   "outputs": [],
   "source": [
    "# Shared settings for plots and fonts\n",
    "subplot_letter_size = 20\n",
    "subplot_letter_weight = 'bold'\n",
    "figure_width = 10\n",
    "plt.rcParams['figure.constrained_layout.use'] = True\n",
    "plt.rcParams.update({'font.size': 14})\n",
    "\n",
    "try:\n",
    "    default_properties # If this is being called in a notebook that's being re-run, don't run it again.\n",
    "except NameError:\n",
    "# Store line colors, styles, and markdown labels so we can change them easily and don't need to repeat them.\n",
    "    default_properties = {'CH4':{'color':'C0','marker':'o','linestyle':'--','text':'-$\\Delta$CH$_4$'},\n",
    "                        'Cl2':{'color':'g','marker':'o','linestyle':'--','text':'-$\\Delta$Cl$_2$'},\n",
    "                        'CO2':{'color':'xkcd:violet','marker':'o','linestyle':'--','text':'$\\Delta$CO$_2$'},\n",
    "                        'CO':{'color':'xkcd:teal','marker':'o','linestyle':'--','text':'$\\Delta$CO',},\n",
    "                        'CH2O':{'color':'xkcd:navy','marker':'o','linestyle':'--','text':'$\\Delta$CH$_2$O'},\n",
    "                        'C1 Sum':{'color':'xkcd:pink','marker':'o','linestyle':':','text':'$\\Delta$CO+$\\Delta$CO$_2$+$\\Delta$CH$_2$O'},\n",
    "                        'Cl* Efficiency':{'color':'xkcd:olive','marker':'o','linestyle':':','text':'[Placeholder]'},\n",
    "                        }\n",
    "\n",
    "    # Grab the constants stored in the Cl2 utilities\n",
    "\n",
    "    importlib.reload(cl2_utils)\n",
    "    cl2_experiment_constants = cl2_utils.cl2_experiment_constants()"
   ]
  }
 ],
 "metadata": {
  "kernelspec": {
   "display_name": "Python 3",
   "language": "python",
   "name": "python3"
  },
  "language_info": {
   "codemirror_mode": {
    "name": "ipython",
    "version": 3
   },
   "file_extension": ".py",
   "mimetype": "text/x-python",
   "name": "python",
   "nbconvert_exporter": "python",
   "pygments_lexer": "ipython3",
   "version": "3.10.7"
  }
 },
 "nbformat": 4,
 "nbformat_minor": 2
}
